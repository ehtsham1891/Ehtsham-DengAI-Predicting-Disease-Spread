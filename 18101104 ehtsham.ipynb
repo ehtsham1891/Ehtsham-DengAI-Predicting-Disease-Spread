{
 "cells": [
  {
   "cell_type": "markdown",
   "metadata": {},
   "source": [
    "# Final Project"
   ]
  },
  {
   "cell_type": "markdown",
   "metadata": {},
   "source": [
    "## Hafiz Ehtsham Zafar\n",
    "## 18101104"
   ]
  },
  {
   "cell_type": "markdown",
   "metadata": {},
   "source": [
    "## Import Libraries"
   ]
  },
  {
   "cell_type": "code",
   "execution_count": 3,
   "metadata": {},
   "outputs": [],
   "source": [
    "import pandas as pd\n",
    "import numpy as np"
   ]
  },
  {
   "cell_type": "markdown",
   "metadata": {},
   "source": [
    "## Load Data set"
   ]
  },
  {
   "cell_type": "code",
   "execution_count": 35,
   "metadata": {},
   "outputs": [],
   "source": [
    "train_data = pd.read_csv('dengue_features_train.csv')\n",
    "test_data = pd.read_csv('dengue_features_test.csv')"
   ]
  },
  {
   "cell_type": "markdown",
   "metadata": {},
   "source": [
    "## Handle Missing Values"
   ]
  },
  {
   "cell_type": "code",
   "execution_count": 36,
   "metadata": {},
   "outputs": [
    {
     "data": {
      "text/plain": [
       "city                                       0\n",
       "year                                       0\n",
       "weekofyear                                 0\n",
       "week_start_date                            0\n",
       "ndvi_ne                                  194\n",
       "ndvi_nw                                   52\n",
       "ndvi_se                                   22\n",
       "ndvi_sw                                   22\n",
       "precipitation_amt_mm                      13\n",
       "reanalysis_air_temp_k                     10\n",
       "reanalysis_avg_temp_k                     10\n",
       "reanalysis_dew_point_temp_k               10\n",
       "reanalysis_max_air_temp_k                 10\n",
       "reanalysis_min_air_temp_k                 10\n",
       "reanalysis_precip_amt_kg_per_m2           10\n",
       "reanalysis_relative_humidity_percent      10\n",
       "reanalysis_sat_precip_amt_mm              13\n",
       "reanalysis_specific_humidity_g_per_kg     10\n",
       "reanalysis_tdtr_k                         10\n",
       "station_avg_temp_c                        43\n",
       "station_diur_temp_rng_c                   43\n",
       "station_max_temp_c                        20\n",
       "station_min_temp_c                        14\n",
       "station_precip_mm                         22\n",
       "total_cases                                0\n",
       "dtype: int64"
      ]
     },
     "execution_count": 36,
     "metadata": {},
     "output_type": "execute_result"
    }
   ],
   "source": [
    "train_data.isna().sum()"
   ]
  },
  {
   "cell_type": "code",
   "execution_count": 37,
   "metadata": {},
   "outputs": [
    {
     "data": {
      "text/plain": [
       "city                                      0\n",
       "year                                      0\n",
       "weekofyear                                0\n",
       "week_start_date                           0\n",
       "ndvi_ne                                  43\n",
       "ndvi_nw                                  11\n",
       "ndvi_se                                   1\n",
       "ndvi_sw                                   1\n",
       "precipitation_amt_mm                      2\n",
       "reanalysis_air_temp_k                     2\n",
       "reanalysis_avg_temp_k                     2\n",
       "reanalysis_dew_point_temp_k               2\n",
       "reanalysis_max_air_temp_k                 2\n",
       "reanalysis_min_air_temp_k                 2\n",
       "reanalysis_precip_amt_kg_per_m2           2\n",
       "reanalysis_relative_humidity_percent      2\n",
       "reanalysis_sat_precip_amt_mm              2\n",
       "reanalysis_specific_humidity_g_per_kg     2\n",
       "reanalysis_tdtr_k                         2\n",
       "station_avg_temp_c                       12\n",
       "station_diur_temp_rng_c                  12\n",
       "station_max_temp_c                        3\n",
       "station_min_temp_c                        9\n",
       "station_precip_mm                         5\n",
       "dtype: int64"
      ]
     },
     "execution_count": 37,
     "metadata": {},
     "output_type": "execute_result"
    }
   ],
   "source": [
    "test_data.isna().sum()"
   ]
  },
  {
   "cell_type": "code",
   "execution_count": 38,
   "metadata": {},
   "outputs": [],
   "source": [
    "train=train_data.fillna(train_data.mean())\n",
    "test=test_data.fillna(test_data.mean())"
   ]
  },
  {
   "cell_type": "markdown",
   "metadata": {},
   "source": [
    "## Transform City Coloum"
   ]
  },
  {
   "cell_type": "code",
   "execution_count": 39,
   "metadata": {},
   "outputs": [
    {
     "name": "stdout",
     "output_type": "stream",
     "text": [
      "(1456, 25)\n",
      "(416, 24)\n"
     ]
    }
   ],
   "source": [
    "train['city'] = train['city'].astype('category') \n",
    "train['city'] = train['city'].cat.codes\n",
    "test['city'] = test['city'].astype('category') \n",
    "test['city'] = test['city'].cat.codes\n",
    "print(train.shape)\n",
    "print(test.shape)"
   ]
  },
  {
   "cell_type": "code",
   "execution_count": 40,
   "metadata": {},
   "outputs": [
    {
     "data": {
      "text/plain": [
       "city                                        int8\n",
       "year                                       int64\n",
       "weekofyear                                 int64\n",
       "week_start_date                           object\n",
       "ndvi_ne                                  float64\n",
       "ndvi_nw                                  float64\n",
       "ndvi_se                                  float64\n",
       "ndvi_sw                                  float64\n",
       "precipitation_amt_mm                     float64\n",
       "reanalysis_air_temp_k                    float64\n",
       "reanalysis_avg_temp_k                    float64\n",
       "reanalysis_dew_point_temp_k              float64\n",
       "reanalysis_max_air_temp_k                float64\n",
       "reanalysis_min_air_temp_k                float64\n",
       "reanalysis_precip_amt_kg_per_m2          float64\n",
       "reanalysis_relative_humidity_percent     float64\n",
       "reanalysis_sat_precip_amt_mm             float64\n",
       "reanalysis_specific_humidity_g_per_kg    float64\n",
       "reanalysis_tdtr_k                        float64\n",
       "station_avg_temp_c                       float64\n",
       "station_diur_temp_rng_c                  float64\n",
       "station_max_temp_c                       float64\n",
       "station_min_temp_c                       float64\n",
       "station_precip_mm                        float64\n",
       "total_cases                                int64\n",
       "dtype: object"
      ]
     },
     "execution_count": 40,
     "metadata": {},
     "output_type": "execute_result"
    }
   ],
   "source": [
    "train.dtypes"
   ]
  },
  {
   "cell_type": "code",
   "execution_count": 41,
   "metadata": {},
   "outputs": [
    {
     "data": {
      "text/plain": [
       "city                                        int8\n",
       "year                                       int64\n",
       "weekofyear                                 int64\n",
       "week_start_date                           object\n",
       "ndvi_ne                                  float64\n",
       "ndvi_nw                                  float64\n",
       "ndvi_se                                  float64\n",
       "ndvi_sw                                  float64\n",
       "precipitation_amt_mm                     float64\n",
       "reanalysis_air_temp_k                    float64\n",
       "reanalysis_avg_temp_k                    float64\n",
       "reanalysis_dew_point_temp_k              float64\n",
       "reanalysis_max_air_temp_k                float64\n",
       "reanalysis_min_air_temp_k                float64\n",
       "reanalysis_precip_amt_kg_per_m2          float64\n",
       "reanalysis_relative_humidity_percent     float64\n",
       "reanalysis_sat_precip_amt_mm             float64\n",
       "reanalysis_specific_humidity_g_per_kg    float64\n",
       "reanalysis_tdtr_k                        float64\n",
       "station_avg_temp_c                       float64\n",
       "station_diur_temp_rng_c                  float64\n",
       "station_max_temp_c                       float64\n",
       "station_min_temp_c                       float64\n",
       "station_precip_mm                        float64\n",
       "dtype: object"
      ]
     },
     "execution_count": 41,
     "metadata": {},
     "output_type": "execute_result"
    }
   ],
   "source": [
    "test.dtypes"
   ]
  },
  {
   "cell_type": "markdown",
   "metadata": {},
   "source": [
    "## Assign lables X , y and X1"
   ]
  },
  {
   "cell_type": "code",
   "execution_count": 42,
   "metadata": {},
   "outputs": [],
   "source": [
    "X = train.drop(['total_cases','week_start_date'], 1)\n",
    "y = train['total_cases']\n",
    "X1 = test.drop(['week_start_date'], 1)"
   ]
  },
  {
   "cell_type": "markdown",
   "metadata": {},
   "source": [
    "## Split the dataset"
   ]
  },
  {
   "cell_type": "code",
   "execution_count": 43,
   "metadata": {},
   "outputs": [
    {
     "name": "stdout",
     "output_type": "stream",
     "text": [
      "Smaple in traiing set::: (1040, 23)\n",
      "Smaple in testing set::: (416, 23)\n",
      "Sample of target in training set:: (1040,)\n",
      "Sample of target in testing set:: (416,)\n"
     ]
    }
   ],
   "source": [
    "from sklearn.model_selection import train_test_split\n",
    "X_train, X_test, y_train, y_test = train_test_split(X, y, test_size=0.2852, random_state=0)\n",
    "print(\"Smaple in traiing set:::\", X_train.shape)\n",
    "print(\"Smaple in testing set:::\", X_test.shape)\n",
    "print(\"Sample of target in training set::\", y_train.shape)\n",
    "print(\"Sample of target in testing set::\", y_test.shape)"
   ]
  },
  {
   "cell_type": "markdown",
   "metadata": {},
   "source": [
    "## Scaling the data"
   ]
  },
  {
   "cell_type": "code",
   "execution_count": 44,
   "metadata": {},
   "outputs": [],
   "source": [
    "from sklearn.preprocessing import StandardScaler\n",
    "\n",
    "sc = StandardScaler()  \n",
    "X_train = sc.fit_transform(X_train)  \n",
    "X_test = sc.transform(X_test)  "
   ]
  },
  {
   "cell_type": "code",
   "execution_count": 45,
   "metadata": {},
   "outputs": [
    {
     "name": "stdout",
     "output_type": "stream",
     "text": [
      "20.809692581859796\n"
     ]
    }
   ],
   "source": [
    "from sklearn.linear_model import LinearRegression\n",
    "from sklearn.metrics import mean_absolute_error\n",
    "regression = LinearRegression()\n",
    "regression.fit(X_train, y_train)\n",
    "y_predicted = regression.predict(X_test)\n",
    "mae = mean_absolute_error(y_test, y_predicted)\n",
    "print(mae)"
   ]
  },
  {
   "cell_type": "code",
   "execution_count": 46,
   "metadata": {},
   "outputs": [],
   "source": [
    "y_predicted = regression.predict(X1)"
   ]
  },
  {
   "cell_type": "markdown",
   "metadata": {},
   "source": [
    "## Apply RandomForestRegressor Model"
   ]
  },
  {
   "cell_type": "code",
   "execution_count": 47,
   "metadata": {},
   "outputs": [
    {
     "name": "stdout",
     "output_type": "stream",
     "text": [
      "17.17724531839771\n"
     ]
    }
   ],
   "source": [
    "from sklearn.ensemble import RandomForestRegressor\n",
    "RFR = RandomForestRegressor(max_depth=2, random_state=0, n_estimators=100)\n",
    "RFR.fit(X_train, y_train)\n",
    "y_predict = RFR.predict(X_test)\n",
    "mae = mean_absolute_error(y_test, y_predict)\n",
    "print(mae)"
   ]
  },
  {
   "cell_type": "markdown",
   "metadata": {},
   "source": [
    "## RandomForestRegressor Model Using GridSearchCV"
   ]
  },
  {
   "cell_type": "code",
   "execution_count": 48,
   "metadata": {},
   "outputs": [
    {
     "name": "stdout",
     "output_type": "stream",
     "text": [
      "Fitting 3 folds for each of 288 candidates, totalling 864 fits\n"
     ]
    },
    {
     "name": "stderr",
     "output_type": "stream",
     "text": [
      "[Parallel(n_jobs=-1)]: Done  25 tasks      | elapsed:   15.0s\n",
      "[Parallel(n_jobs=-1)]: Done 146 tasks      | elapsed:   27.2s\n",
      "[Parallel(n_jobs=-1)]: Done 349 tasks      | elapsed:   47.9s\n",
      "[Parallel(n_jobs=-1)]: Done 632 tasks      | elapsed:  1.3min\n",
      "[Parallel(n_jobs=-1)]: Done 864 out of 864 | elapsed:  1.7min finished\n"
     ]
    },
    {
     "name": "stdout",
     "output_type": "stream",
     "text": [
      "43.6876231170955\n"
     ]
    }
   ],
   "source": [
    "from sklearn.model_selection import GridSearchCV\n",
    "# Create the parameter grid based on the results of random search \n",
    "param_grid = {\n",
    "    'bootstrap': [True],\n",
    "    'max_depth': [80, 90, 100, 110],\n",
    "    'max_features': [2, 3],\n",
    "    'min_samples_leaf': [3, 4, 5],\n",
    "    'min_samples_split': [8, 10, 12],\n",
    "    'n_estimators': [100, 200, 300, 1000]\n",
    "}\n",
    "# Create a based model\n",
    "RFR1 = RandomForestRegressor(max_depth=2, random_state=0, n_estimators=100)\n",
    "# Instantiate the grid search model\n",
    "grid_search = GridSearchCV(estimator = RFR1, param_grid = param_grid, \n",
    "                          cv = 3, n_jobs = -1, verbose = 2)\n",
    "\n",
    "# Fit the grid search to the data\n",
    "grid_search.fit(X_train, y_train)\n",
    "y_predict1 = grid_search.predict(X1)\n",
    "mae1 = mean_absolute_error(y_test, y_predict1)\n",
    "print(mae1)"
   ]
  },
  {
   "cell_type": "markdown",
   "metadata": {},
   "source": [
    "## Create Submission file of prediction"
   ]
  },
  {
   "cell_type": "code",
   "execution_count": 49,
   "metadata": {},
   "outputs": [
    {
     "name": "stdout",
     "output_type": "stream",
     "text": [
      "[58 58 57 58 58 58 58 56 58 56 58 55 50 60 57 56 52 56 58 50 56 56 56 56\n",
      " 55 56 58 59 56 56 56 56 57 58 59 52 59 60 58 59 61 57 57 52 56 56 61 57\n",
      " 56 59 56 58 57 58 57 57 56 57 56 57 59 57 56 56 57 56 57 57 58 58 59 57\n",
      " 57 57 58 53 54 56 58 56 55 57 57 54 58 52 58 56 54 58 55 57 58 52 58 57\n",
      " 60 61 57 55 58 55 60 57 58 58 59 56 58 57 58 56 57 58 58 57 58 57 57 59\n",
      " 59 56 56 53 59 56 56 57 53 54 56 57 57 58 59 59 54 56 57 56 59 56 56 56\n",
      " 57 59 56 59 56 56 59 57 57 57 56 55 55 58 58 56 57 57 57 56 56 57 58 55\n",
      " 56 57 57 55 55 56 59 56 56 58 56 56 57 57 57 56 55 58 59 58 56 56 58 56\n",
      " 57 59 59 55 59 57 58 57 60 58 57 55 59 58 58 55 58 59 56 58 56 59 57 55\n",
      " 55 59 57 58 56 57 59 56 57 57 53 57 54 54 59 55 57 56 57 57 56 57 60 57\n",
      " 58 57 58 57 58 58 59 55 60 57 57 60 62 58 60 58 57 58 58 57 55 51 50 57\n",
      " 50 50 48 52 50 50 56 51 51 49 49 51 53 53 50 49 54 49 55 53 51 53 51 48\n",
      " 53 51 52 55 52 51 55 52 52 49 56 53 50 50 53 50 51 49 56 52 56 52 51 55\n",
      " 54 56 49 51 54 49 49 51 51 49 51 56 49 50 50 52 51 49 49 51 53 50 49 52\n",
      " 51 51 54 52 52 53 52 55 54 52 55 51 53 55 51 52 53 56 50 49 53 51 49 54\n",
      " 52 54 55 50 53 51 53 50 49 51 51 54 48 55 49 49 48 49 52 53 54 51 49 49\n",
      " 50 51 49 49 54 52 51 54 53 55 49 51 53 50 49 51 53 52 52 52 52 51 53 49\n",
      " 50 51 51 49 51 52 51 52]\n"
     ]
    }
   ],
   "source": [
    "y_prediction=y_predict1.astype(int)\n",
    "print(y_prediction)"
   ]
  },
  {
   "cell_type": "code",
   "execution_count": 18,
   "metadata": {},
   "outputs": [],
   "source": [
    "import numpy as np\n",
    "np.savetxt(\"Submission_format.csv\", y_prediction, delimiter=\",\", fmt='%s', header='total_cases')"
   ]
  }
 ],
 "metadata": {
  "kernelspec": {
   "display_name": "Python 3",
   "language": "python",
   "name": "python3"
  },
  "language_info": {
   "codemirror_mode": {
    "name": "ipython",
    "version": 3
   },
   "file_extension": ".py",
   "mimetype": "text/x-python",
   "name": "python",
   "nbconvert_exporter": "python",
   "pygments_lexer": "ipython3",
   "version": "3.6.5"
  }
 },
 "nbformat": 4,
 "nbformat_minor": 2
}
